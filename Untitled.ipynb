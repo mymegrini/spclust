{
 "cells": [
  {
   "cell_type": "markdown",
   "metadata": {},
   "source": [
    "## Partie Théorique"
   ]
  },
  {
   "cell_type": "markdown",
   "metadata": {},
   "source": [
    "L'idée intuitive du clustering est de créer des groupes en fonction de la similarité des différents points. En somme, si l'on prend deux points d'un même groupe, leur similarité sera plutôt grande, inversement si l'on prend deux points de deux groupes distincts, leur similarité sera petite.\n",
    "\n",
    "Par ailleurs, on peut dérivé le Clustering Spectral en un tout autre problème, à savoir celui de partitioner un graphe. En effet, le clustering peut-être transposé en la recherche d'une partition du graphe tel que les arêtes entre des points de deux groupes différents soientt de poids très petits et inversement, que dans un même groupe le poid soit plutôt grand."
   ]
  },
  {
   "cell_type": "markdown",
   "metadata": {},
   "source": [
    "Soit un un graphe de similitude et $W$ sa matrice adjacente.\n",
    "Une façon simple de construire une partition du graphe est de résoudre le mincut problème.\n",
    "On note $W(A,B) := \\sum_{i \\in A,j \\in B} w_{ij}$ et $A^{c}$ le complémentaire de A.\n",
    "Le mincut problème, étant donné k sous-ensemble demandé, revient à de façon intuitive à trouver une partition $A_{1},...,A_{k}$ tel que $cut(A_{1},...,A_{k}) := \\frac{1}{2} \\sum_{i=1}^{k} W(A_{i},A_{i}^{c})$.\n",
    "\n",
    "Mais on souhaite tout de même que chaque $A_{i}$ soit un groupe de points assez conséquent, afin de pouvoir tirer des conclusions sur les données. Il existe ainsi deux manières d'imposer cette condition, le RatioCut qui mesure la taille de chaque ensemble en comptant le nombre de sommet dans $A_{i}$, et la coupe normalisée Ncut qui lui utilise le poid des arêtes. \n",
    "Ainsi on a :\n",
    "$RatioCut(A_{1},...,A_{k}) := \\sum_{i=1}^{k} \\frac{cut(A_{i},A_{i}^{c})}{|A_{i}|}$.\n",
    "\n",
    "$Ncut(A_{1},...,A_{k}) := \\sum_{i=1}^{k} \\frac{cut(A_{i},A_{i}^{c})}{vol(A_{i})}$.\n",
    "\n",
    "où $|A|$ est le nombre de sommet de $A$ et $vol(A)$ est la somme du poids des arêtes de $A$.\n",
    "\n",
    "On remarquera ainsi que le RatioCut est transcription du spectral clustering non normalisé, tandis que le Ncut celui du normalisé\n",
    "\n",
    "### RatioCut\n",
    "\n",
    "Soit k le nombre de sous-ensemble dans la partition $V$.\n",
    "On défini $h_{j}=(h_{1,j},...,h_{n,j})'$ k vecteurs tel que \n",
    "\n",
    "$h_{i,j} = \\left\\{\n",
    "  \\begin{array}{rcr}\n",
    "    1/ \\sqrt|A_{j}| & si & v_{i} \\in A_{j}\\\\\n",
    "    0 & sinon\\\\\n",
    "  \\end{array}\n",
    "\\right.$\n",
    "\n",
    "$(i=1,...,n; j=1,...,k).$\n",
    "\n",
    "On considère $H \\in \\mathbb{R}^{n*k}$ la matrice contenant ces k vecteurs comme colonnes.\n",
    "\n",
    "On calcul $h_{i}'Lh_{i} = \\frac{cut(A_{i},A_{i}^{c})}{|A_{i}|}$\n",
    "\n",
    "Par ailleurs on a aussi $h_{i}'Lh_{i} =(H'LH)_{ii}$\n",
    "\n",
    "D'où $RatioCut(A_{1},...,A_{k})=Tr(H'LH)$\n",
    "\n",
    "Ainsi la minimisation de $RatioCut(A_{1},...,A_{k})$ peut-être formulée comme \n",
    "\n",
    "$min_{A_{1},...,A_{k}} Tr(H'LH)$ tel que $H'H=I$"
   ]
  },
  {
   "cell_type": "code",
   "execution_count": null,
   "metadata": {
    "collapsed": true
   },
   "outputs": [],
   "source": [
    "knearest = function(k,d,mutual=FALSE){\n",
    "    n=nrow(d)\n",
    "    #Matrix n*p of zero\n",
    "    M=matrix(data=numeric(n*n),ncol=n,nrow=n)\n",
    "    for(i in 1:n){\n",
    "        #Iterate the number of point that we have to connect\n",
    "        kk=k\n",
    "        while(kk>0){\n",
    "            #Cordinates of the nearest point of i\n",
    "            #Start at (i,1)\n",
    "            ii=i\n",
    "            if(i==1){ jj=2 }\n",
    "            else{ jj=1 }\n",
    "            if(mutual){\n",
    "                min2=d[jj,ii] \n",
    "                min=d[ii,jj] \n",
    "            }\n",
    "            else{\n",
    "                min=d[ii,jj]\n",
    "            }\n",
    "            #Found the cordinates of the nearest point of i\n",
    "            for(j in 1:n){\n",
    "                if(j!=i){\n",
    "                    if(mutual){\n",
    "                        if(d[i,j]<min && M[i,j]==0 && d[j,i]<min2 && M[j,i]==0){\n",
    "                            min=d[i,j]\n",
    "                            min2=d[j,i]\n",
    "                            ii=i\n",
    "                            jj=j\n",
    "                        }\n",
    "                    }\n",
    "                    else{\n",
    "                        if((d[i,j]<min && M[i,j]==0)){\n",
    "                            min=min(d[i,j],d[j,i])\n",
    "                            ii=i\n",
    "                            jj=j\n",
    "                        }\n",
    "\n",
    "                    }\n",
    "                }\n",
    "            }\n",
    "            kk=kk-1\n",
    "            #M take the nearest point which is at (ii,jj)\n",
    "            if(mutual){\n",
    "                \n",
    "            }\n",
    "            else{\n",
    "                M[ii,jj]=d[ii,jj]\n",
    "            }\n",
    "        }\n",
    "    }\n",
    "    return(M)\n",
    "}"
   ]
  }
 ],
 "metadata": {
  "kernelspec": {
   "display_name": "R",
   "language": "R",
   "name": "ir"
  },
  "language_info": {
   "codemirror_mode": "r",
   "file_extension": ".r",
   "mimetype": "text/x-r-source",
   "name": "R",
   "pygments_lexer": "r",
   "version": "3.3.2"
  }
 },
 "nbformat": 4,
 "nbformat_minor": 2
}
